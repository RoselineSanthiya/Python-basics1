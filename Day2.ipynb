{
  "nbformat": 4,
  "nbformat_minor": 0,
  "metadata": {
    "colab": {
      "provenance": []
    },
    "kernelspec": {
      "name": "python3",
      "display_name": "Python 3"
    },
    "language_info": {
      "name": "python"
    }
  },
  "cells": [
    {
      "cell_type": "code",
      "execution_count": null,
      "metadata": {
        "colab": {
          "base_uri": "https://localhost:8080/"
        },
        "id": "T6JEu_fC2eTN",
        "outputId": "6eed078c-e737-4d51-fd65-63343632a36d"
      },
      "outputs": [
        {
          "output_type": "stream",
          "name": "stdout",
          "text": [
            "2\n"
          ]
        }
      ],
      "source": [
        "print(2)"
      ]
    },
    {
      "cell_type": "code",
      "source": [
        "x=5\n",
        "print (x)\n",
        "print (\"addition=\",x+10)\n",
        "print (\"multiplication=\",x*5)"
      ],
      "metadata": {
        "colab": {
          "base_uri": "https://localhost:8080/"
        },
        "id": "i7Xzh4i32pd4",
        "outputId": "b039a85d-3b2c-4c08-fdb1-9372fb26f545"
      },
      "execution_count": null,
      "outputs": [
        {
          "output_type": "stream",
          "name": "stdout",
          "text": [
            "5\n",
            "addition= 15\n",
            "multiplication= 25\n"
          ]
        }
      ]
    },
    {
      "cell_type": "code",
      "source": [
        "y=10\n",
        "y\n",
        "print (\"addition=\",y+5)"
      ],
      "metadata": {
        "colab": {
          "base_uri": "https://localhost:8080/"
        },
        "id": "Gy_A03MkDl4p",
        "outputId": "e8764658-7cce-4f88-8d9c-12e1a76b4301"
      },
      "execution_count": null,
      "outputs": [
        {
          "output_type": "stream",
          "name": "stdout",
          "text": [
            "addition= 15\n"
          ]
        }
      ]
    },
    {
      "cell_type": "code",
      "source": [
        "x,y=5,10\n",
        "print (x+y)\n",
        "print (\"addition=\",x+y)\n",
        "print (\"subtraction=\",x-y)\n",
        "print (\"division=\",x/y)\n",
        "print (\"division=\",x//y)\n",
        "print (\"modulus=\",x%y)\n",
        "print (\"exponential=\",x**2)\n",
        "print (\"exponential=\",y**3)\n",
        "print (\"multiplication=\",x*y)"
      ],
      "metadata": {
        "colab": {
          "base_uri": "https://localhost:8080/"
        },
        "id": "v3mUUe3B2yIs",
        "outputId": "28ddfb32-a689-4e14-815b-b799980203eb"
      },
      "execution_count": null,
      "outputs": [
        {
          "output_type": "stream",
          "name": "stdout",
          "text": [
            "15\n",
            "addition= 15\n",
            "subtraction= -5\n",
            "division= 0.5\n",
            "division= 0\n",
            "modulus= 5\n",
            "exponential= 25\n",
            "exponential= 1000\n",
            "multiplication= 50\n"
          ]
        }
      ]
    },
    {
      "cell_type": "code",
      "source": [],
      "metadata": {
        "id": "JVYDYNgFcsg6"
      },
      "execution_count": null,
      "outputs": []
    },
    {
      "cell_type": "code",
      "source": [
        "str=\"coffee\"\n",
        "print (\"this is bru\",str)"
      ],
      "metadata": {
        "colab": {
          "base_uri": "https://localhost:8080/"
        },
        "id": "Im-uGgQPcS1v",
        "outputId": "b52772af-7f94-4991-ff0a-e2557dd92fa9"
      },
      "execution_count": null,
      "outputs": [
        {
          "output_type": "stream",
          "name": "stdout",
          "text": [
            "this is bru coffee\n"
          ]
        }
      ]
    },
    {
      "cell_type": "code",
      "source": [
        "name=\"santhiya\"\n",
        "print (\"My name is\",name)"
      ],
      "metadata": {
        "colab": {
          "base_uri": "https://localhost:8080/"
        },
        "id": "TMen_doa4aBC",
        "outputId": "6b557a31-3323-4416-950a-27da4177c4d1"
      },
      "execution_count": null,
      "outputs": [
        {
          "output_type": "stream",
          "name": "stdout",
          "text": [
            "My name is santhiya\n"
          ]
        }
      ]
    },
    {
      "cell_type": "code",
      "source": [
        "str=\"santhiya\"\n",
        "print (str)"
      ],
      "metadata": {
        "colab": {
          "base_uri": "https://localhost:8080/"
        },
        "id": "tCdlYmsp4u0M",
        "outputId": "4a3d4c0c-88a9-4926-f650-300bf6e3ec69"
      },
      "execution_count": null,
      "outputs": [
        {
          "output_type": "stream",
          "name": "stdout",
          "text": [
            "santhiya\n"
          ]
        }
      ]
    },
    {
      "cell_type": "code",
      "source": [
        "str=\"santhiya\"\n",
        "print (\"my name is\", str)"
      ],
      "metadata": {
        "colab": {
          "base_uri": "https://localhost:8080/"
        },
        "id": "POWF_D-m47xK",
        "outputId": "031c0c15-1767-4505-fe5a-456b0d095696"
      },
      "execution_count": null,
      "outputs": [
        {
          "output_type": "stream",
          "name": "stdout",
          "text": [
            "my name is santhiya\n"
          ]
        }
      ]
    },
    {
      "cell_type": "code",
      "source": [
        "str=\"February\"\n",
        "print (str,\"has 28 days this year\")"
      ],
      "metadata": {
        "colab": {
          "base_uri": "https://localhost:8080/"
        },
        "id": "xh6i1Veb7iSj",
        "outputId": "3f6abb57-242d-4446-cf4e-4f8137ba5d08"
      },
      "execution_count": null,
      "outputs": [
        {
          "output_type": "stream",
          "name": "stdout",
          "text": [
            "February has 28 days this year\n"
          ]
        }
      ]
    }
  ]
}